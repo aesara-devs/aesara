{
 "cells": [
  {
   "cell_type": "markdown",
   "metadata": {},
   "source": [
    "# A tutorial JAX Ops and Aesara\n",
    "A core feature of Theano-PyMC, soon to be renamed Aesara, is the JAX backend. To support the backend JAX ops need be added to Aesara once to be supported. This tutorial will explain each step."
   ]
  },
  {
   "cell_type": "markdown",
   "metadata": {},
   "source": [
    "# Step 1: Identify the Theano Op you'd like to JAXify\n",
    "Determine which Theano-PyMC Op you'd like supported with JAX and identify the function signature and return values. This will come in handy as we need to know what we want JAX to do.\n",
    "\n",
    "Here are the examples for `eye` and `ifelse` from Theano-PyMC from the compiled doc and codebase respectively\n",
    "https://theano-pymc.readthedocs.io/en/latest/library/tensor/basic.html?highlight=eye#theano.tensor.eye\n",
    "https://github.com/pymc-devs/Theano-PyMC/blob/master/theano/ifelse.py#L35\n"
   ]
  },
  {
   "cell_type": "markdown",
   "metadata": {},
   "source": [
    "# Step 2: Find the relevant JAX method (or something close)\n",
    "With a precise idea of what the Theano-PyMC Op does we need to figure out how to implement it in JAX. In easiest scenario JAX has a similarly named method that does the same thing. For example with the `eye` operator we find the paired `jax.numpy.eye` method.\n",
    "\n",
    "https://jax.readthedocs.io/en/latest/_autosummary/jax.numpy.eye.html?highlight=eye\n",
    "\n",
    "For ifelse we'll need to recreate the functionality with some custom logic. \n",
    "\n",
    "```python\n",
    "def ifelse(cond, *args, n_outs=n_outs):\n",
    "    res = jax.lax.cond(\n",
    "        cond, lambda _: args[:n_outs], lambda _: args[n_outs:], operand=None\n",
    "    )\n",
    "    return res if n_outs > 1 else res[0]\n",
    "```\n",
    "\n",
    "*Code in context:* https://github.com/pymc-devs/Theano-PyMC/blob/master/theano/link/jax/jax_dispatch.py#L583"
   ]
  },
  {
   "cell_type": "markdown",
   "metadata": {},
   "source": [
    "# Step 3: Register the function with the jax_funcify dispatcher\n",
    "With the Theano-PyMC Op replicated in JAX we'll need to now register this function with the Theano-PyMC JAX Linker (Note to reviewer is this the right word?). This is done through the dispatcher decorator and closure as seen below. If unsure how dispatching works a short tutorial on dispatching is at the bottom.\n",
    "\n",
    "The linker functions should be added to `jax_dispatch` module linked below.\n",
    "https://github.com/pymc-devs/Theano-PyMC/blob/master/theano/link/jax/jax_dispatch.py\n",
    "\n",
    "Here's an example for the Eye Op.\n",
    "\n",
    "```python\n",
    "from theano.tensor.basic import Eye\n",
    "@jax_funcify.register(Eye) # The decorater \n",
    "def jax_funcify_Eye(op): # The function that takes an individual Theano-PyMC Op and returned the JAXified op\n",
    "    dtype = op.dtype\n",
    "\n",
    "    def eye(N, M, k):\n",
    "        return jnp.eye(N, M, k, dtype=dtype)\n",
    "\n",
    "    return eye\n",
    "```\n",
    "*Code in context:* https://github.com/pymc-devs/Theano-PyMC/blob/master/theano/link/jax/jax_dispatch.py#L1071\n"
   ]
  },
  {
   "cell_type": "markdown",
   "metadata": {},
   "source": [
    "# Step 4: Write tests\n",
    "Test that your registered Op is working correctly by adding a test to the `test_jax.py` test suite. The test should ensure that Theano Op, when included as part of a function graph, passes the tests in `compare_jax_and_py` test method. What this test method does is compile the same function graph in Python and JAX and check that the numerical output is similar betwen the JAX and Python output, as well object types to ensure correct compilation.\n",
    "\n",
    "https://github.com/pymc-devs/Theano-PyMC/blob/master/tests/link/test_jax.py\n",
    "\n",
    "```python\n",
    "def test_jax_eye():\n",
    "    \"\"\"Tests jaxification of the Eye operator\"\"\"\n",
    "    out = tt.eye(3)\n",
    "    out_fg = theano.gof.FunctionGraph([], [out])\n",
    "\n",
    "    compare_jax_and_py(out_fg, [])\n",
    "```\n",
    "*Code in context:* https://github.com/pymc-devs/Theano-PyMC/blob/056fcee1434818d0aed9234e01c754ed88d0f27a/tests/link/test_jax.py#L250\n"
   ]
  },
  {
   "cell_type": "markdown",
   "metadata": {},
   "source": [
    "# Step 5: Wait for CI pass and Code Review\n",
    "Create a pull request and ensure CI passes. If it does wait for a code review and a likely merge! https://github.com/pymc-devs/Theano-PyMC/pulls"
   ]
  },
  {
   "cell_type": "markdown",
   "metadata": {},
   "source": [
    "# What does a dispatcher do?\n",
    "In short a dispatcher figures out what \"the right thing\" is to do based on the type of the first argument to the function. It's easiest explained with an example. One is provided below in addition to the python docs.\n",
    "\n",
    "https://docs.python.org/3/library/functools.html#functools.singledispatch"
   ]
  },
  {
   "cell_type": "code",
   "execution_count": 7,
   "metadata": {},
   "outputs": [
    {
     "name": "stdout",
     "output_type": "stream",
     "text": [
      "Mooooo\n",
      "Woof\n",
      "Animal has not been registerd\n"
     ]
    }
   ],
   "source": [
    "from functools import singledispatch\n",
    "\n",
    "class Cow:\n",
    "    pass\n",
    "cow = Cow()\n",
    "\n",
    "class Dog:\n",
    "    pass\n",
    "dog = Dog()\n",
    "\n",
    "@singledispatch\n",
    "def greeting(animal):\n",
    "    print(\"This animal has not been registered\")\n",
    "\n",
    "@greeting.register(Cow)\n",
    "def cow_greeting(animal):\n",
    "    print(\"Mooooo\")\n",
    "\n",
    "@greeting.register(Dog)\n",
    "def dog_greeting(animal):\n",
    "    print(\"Woof\")\n",
    "    \n",
    "    \n",
    "greeting(cow) \n",
    "greeting(dog) \n",
    "greeting(\"A string object\") "
   ]
  },
  {
   "cell_type": "markdown",
   "metadata": {},
   "source": [
    "This is what allows the JAX Linker to determine which the correct JAXification op is as we've registered it with the Theano OP"
   ]
  }
 ],
 "metadata": {
  "kernelspec": {
   "display_name": "Python 3",
   "language": "python",
   "name": "python3"
  },
  "language_info": {
   "codemirror_mode": {
    "name": "ipython",
    "version": 3
   },
   "file_extension": ".py",
   "mimetype": "text/x-python",
   "name": "python",
   "nbconvert_exporter": "python",
   "pygments_lexer": "ipython3",
   "version": "3.8.5"
  }
 },
 "nbformat": 4,
 "nbformat_minor": 4
}
